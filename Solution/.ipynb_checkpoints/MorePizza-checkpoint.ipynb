{
 "cells": [
  {
   "cell_type": "code",
   "execution_count": 15,
   "id": "4ac0d961",
   "metadata": {},
   "outputs": [],
   "source": [
    "def processFile(fileName):\n",
    "    inputFilesDirectory = '../Input/'\n",
    "    inputFile = open(inputFilesDirectory + fileName + \".in\", \"rt\")\n",
    "    \n",
    "    lineOne = inputFile.readline()\n",
    "    lineTwo = inputFile.readline()\n",
    "    \n",
    "    MAX_SLICES , NUM = list(map(int, lineOne.split()))\n",
    "    PIZZAS = list(map(int, lineTwo.split()))\n",
    "    return MAX_SLICES, NUM, PIZZAS"
   ]
  },
  {
   "cell_type": "code",
   "execution_count": 67,
   "id": "f1f5f9e6",
   "metadata": {},
   "outputs": [],
   "source": [
    "def solve(processedFile):\n",
    "    MAX_SLICES, NUM, PIZZAS = map(lambda x: x, processedFile)\n",
    "    \n",
    "    solutionIndexList = []\n",
    "    solutionValueList = []\n",
    "    \n",
    "    currentIndexList = []\n",
    "    currentValueList = []\n",
    "    \n",
    "    currentIndex = len(PIZZAS)-1\n",
    "    \n",
    "    currentSlices = 0\n",
    "    previousCurrentSlices = 0\n",
    "        \n",
    "    for i in range(len(PIZZAS)-1,-1,-1):\n",
    "            \n",
    "        previousCurrentSlices = currentSlices\n",
    "        currentSlices+=PIZZAS[i]\n",
    "            \n",
    "        if currentSlices == MAX_SLICES:\n",
    "            solutionIndexList.append(i)\n",
    "            solutionValueList.append(PIZZAS[i])\n",
    "            break\n",
    "            \n",
    "        # ignore the current pizza and go on to a smaller one\n",
    "        elif currentSlices > MAX_SLICES:\n",
    "            currentSlices = previousCurrentSlices\n",
    "            continue\n",
    "            \n",
    "        else:\n",
    "            solutionIndexList.append(i)\n",
    "            solutionValueList.append(PIZZAS[i])\n",
    "    \n",
    "    solutionIndexList.reverse()\n",
    "    return len(solutionIndexList),solutionIndexList"
   ]
  },
  {
   "cell_type": "code",
   "execution_count": null,
   "id": "4d7f5f30",
   "metadata": {},
   "outputs": [],
   "source": [
    "#takes num and indexlist\n",
    "def outputFiles(num,indexList):\n",
    "    outputFilesDirectory = '../Output/'\n",
    "    outputFile = open(outputFilesDirectory + fileName + \".in\", \"rt\")\n",
    "        outputString = \"\"\n",
    "    for l in outputList:\n",
    "        outputString = outputString + str(l) + \" \"\n",
    "    print(outputString)\n",
    "\n",
    "    outputFile = open(outputFilesDirectory + fileName + \".out\", \"w\")\n",
    "    outputFile.write(str(len(outputList)) + \"\\n\")\n",
    "    outputFile.write(outputString)\n",
    "    outputFile.close()\n",
    "\n",
    "\n",
    "inputFilesDirectory = \"Input/\"  # Location of input files\n",
    "outputFilesDirectory = \"Output/\"  # Location of output files\n",
    "\n",
    "fileNames = [\"a_example\", \"b_small\", \"c_medium\",\n",
    "             \"d_quite_big\", \"e_also_big\"]  # File names"
   ]
  },
  {
   "cell_type": "code",
   "execution_count": 68,
   "id": "c7c10149",
   "metadata": {},
   "outputs": [
    {
     "data": {
      "text/plain": [
       "([0, 2, 3], 3)"
      ]
     },
     "execution_count": 68,
     "metadata": {},
     "output_type": "execute_result"
    }
   ],
   "source": [
    "a_example = processFile('a_example')\n",
    "solve(a_example)"
   ]
  },
  {
   "cell_type": "code",
   "execution_count": 58,
   "id": "3ec7d325",
   "metadata": {},
   "outputs": [
    {
     "data": {
      "text/plain": [
       "([9, 0], 99)"
      ]
     },
     "execution_count": 58,
     "metadata": {},
     "output_type": "execute_result"
    }
   ],
   "source": [
    "b_small = processFile('b_small')\n",
    "solve(b_small)"
   ]
  },
  {
   "cell_type": "code",
   "execution_count": 59,
   "id": "00f10d85",
   "metadata": {},
   "outputs": [
    {
     "data": {
      "text/plain": [
       "([49,\n",
       "  48,\n",
       "  47,\n",
       "  46,\n",
       "  45,\n",
       "  44,\n",
       "  43,\n",
       "  42,\n",
       "  41,\n",
       "  40,\n",
       "  39,\n",
       "  38,\n",
       "  37,\n",
       "  36,\n",
       "  35,\n",
       "  34,\n",
       "  33,\n",
       "  32,\n",
       "  31,\n",
       "  30,\n",
       "  29,\n",
       "  28,\n",
       "  27,\n",
       "  26,\n",
       "  25,\n",
       "  24,\n",
       "  23,\n",
       "  22,\n",
       "  21,\n",
       "  20,\n",
       "  19,\n",
       "  18,\n",
       "  17,\n",
       "  16,\n",
       "  15,\n",
       "  14,\n",
       "  13,\n",
       "  12,\n",
       "  11,\n",
       "  4],\n",
       " 4495)"
      ]
     },
     "execution_count": 59,
     "metadata": {},
     "output_type": "execute_result"
    }
   ],
   "source": [
    "c_medium = processFile('c_medium')\n",
    "solve(c_medium)"
   ]
  },
  {
   "cell_type": "code",
   "execution_count": null,
   "id": "2a696f07",
   "metadata": {},
   "outputs": [],
   "source": [
    "e_also_big = processFile('e_also_big')\n",
    "solve(e_also_big)"
   ]
  }
 ],
 "metadata": {
  "kernelspec": {
   "display_name": "Python 3",
   "language": "python",
   "name": "python3"
  },
  "language_info": {
   "codemirror_mode": {
    "name": "ipython",
    "version": 3
   },
   "file_extension": ".py",
   "mimetype": "text/x-python",
   "name": "python",
   "nbconvert_exporter": "python",
   "pygments_lexer": "ipython3",
   "version": "3.8.8"
  }
 },
 "nbformat": 4,
 "nbformat_minor": 5
}
